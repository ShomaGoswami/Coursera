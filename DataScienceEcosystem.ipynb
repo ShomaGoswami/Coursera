{
 "cells": [
  {
   "cell_type": "markdown",
   "id": "c6bb7b83",
   "metadata": {},
   "source": [
    "<h1>Data Science Tools and Ecosystem<h1>"
   ]
  },
  {
   "cell_type": "markdown",
   "id": "28e3e562",
   "metadata": {},
   "source": [
    "In this notebook, Data Science Tools and Ecosystem are summerized"
   ]
  },
  {
   "cell_type": "markdown",
   "id": "090c3248",
   "metadata": {},
   "source": [
    "Some of the popular languages that Data Scientists use are :\n",
    "    <ol>\n",
    "    <li>R</li>\n",
    "    <li>SQL</li>\n",
    "    <li>Julia</li>\n",
    "    </ol>"
   ]
  },
  {
   "cell_type": "markdown",
   "id": "f59cf479",
   "metadata": {},
   "source": [
    "Some of the commonly used libraries used in Data Scientists include:\n",
    "    <ol>\n",
    "    <li>NumPy</li>\n",
    "    <li>Metplotlib</li>\n",
    "    <li>Pandas</li>\n",
    "    </ol>"
   ]
  },
  {
   "cell_type": "markdown",
   "id": "50f32d96",
   "metadata": {},
   "source": [
    "<table>\n",
    "    <tr><td>Data Science Tools</td></tr>\n",
    "    <tr><td>RStudio</td></tr>\n",
    "    <tr><td>Apache Spark</td></tr>\n",
    "    <tr><td>TensorFlow</td></tr>\n",
    "</table>"
   ]
  },
  {
   "cell_type": "markdown",
   "id": "d39f1b0e",
   "metadata": {},
   "source": [
    "<h3>Below are a few examples of evaluating arithmetic expressions in Python</h3>"
   ]
  },
  {
   "cell_type": "code",
   "execution_count": 1,
   "id": "42288a47",
   "metadata": {},
   "outputs": [
    {
     "data": {
      "text/plain": [
       "17"
      ]
     },
     "execution_count": 1,
     "metadata": {},
     "output_type": "execute_result"
    }
   ],
   "source": [
    "# This is a simple arithmetic expression to multiply then add integers\n",
    "(3*4)+5"
   ]
  },
  {
   "cell_type": "code",
   "execution_count": 2,
   "id": "8ab75007",
   "metadata": {},
   "outputs": [
    {
     "data": {
      "text/plain": [
       "3.3333333333333335"
      ]
     },
     "execution_count": 2,
     "metadata": {},
     "output_type": "execute_result"
    }
   ],
   "source": [
    "#This will convert 200 minutes to hours by dividing by 60\n",
    "200/60"
   ]
  },
  {
   "cell_type": "markdown",
   "id": "b88e32fc",
   "metadata": {},
   "source": [
    "Objectives :\n",
    "<ul>\n",
    "    <li>Some of the popular languages that Data Scientists use are : R, SQL, Julia</li>\n",
    "    <li>Some of the commonly used libraries used in Data Scientists include: NumPy, Matplotlib, Pandas</li>\n",
    "    <li>Data Science Tools : Rstudio, Apache Spark, TensorFlow</li>\n",
    "</ul>"
   ]
  },
  {
   "cell_type": "markdown",
   "id": "187cc1db",
   "metadata": {},
   "source": [
    "<h2>Author</h2> Shoma"
   ]
  }
 ],
 "metadata": {
  "kernelspec": {
   "display_name": "Python 3 (ipykernel)",
   "language": "python",
   "name": "python3"
  },
  "language_info": {
   "codemirror_mode": {
    "name": "ipython",
    "version": 3
   },
   "file_extension": ".py",
   "mimetype": "text/x-python",
   "name": "python",
   "nbconvert_exporter": "python",
   "pygments_lexer": "ipython3",
   "version": "3.11.5"
  }
 },
 "nbformat": 4,
 "nbformat_minor": 5
}
